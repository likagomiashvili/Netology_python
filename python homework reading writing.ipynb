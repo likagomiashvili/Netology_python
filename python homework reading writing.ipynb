{
 "cells": [
  {
   "cell_type": "code",
   "execution_count": 17,
   "metadata": {},
   "outputs": [],
   "source": [
    "import json"
   ]
  },
  {
   "cell_type": "code",
   "execution_count": 35,
   "metadata": {},
   "outputs": [
    {
     "name": "stdout",
     "output_type": "stream",
     "text": [
      "{'1840e0b9d4': 'Продукты', '4e4f90fcfb': 'Электроника', 'afea8d72fc': 'Электроника', '373a6055fe': 'Бытовая техника', '9b2ab046f3': 'Электроника'}\n"
     ]
    }
   ],
   "source": [
    "dict_ = {}\n",
    "\n",
    "i = 0\n",
    "with open ('/Users/mac/Desktop/2see:learn/Netology/Netology_python/Downloads (1)/purchase_log.txt', 'r', encoding = 'utf-8') as f:\n",
    "    for line in f:\n",
    "        line = line.strip()\n",
    "        dict_purch = json.loads(line)\n",
    "        key = dict_purch['user_id']\n",
    "        value = dict_purch['category']\n",
    "        if (key != 'user_id'):\n",
    "            dict_.setdefault(key, value)\n",
    "        \n",
    "        i += 1\n",
    "        if i > 5:\n",
    "            break\n",
    "print (dict_)\n",
    "    "
   ]
  },
  {
   "cell_type": "raw",
   "metadata": {},
   "source": [
    "Для каждого user_id в файле visit_log.csv определите третий столбец с категорией покупки (если покупка была, сам файл visit_log.csv изменять не надо). Запишите в файл funnel.csv визиты из файла visit_log.csv, в которых были покупки с указанием категории.\n",
    "Учтите условия на данные:\n",
    "содержимое purchase_log.txt помещается в оперативную память компьютера\n",
    "содержимое visit_log.csv - нет; используйте только построчную обработку этого файла"
   ]
  },
  {
   "cell_type": "code",
   "execution_count": 42,
   "metadata": {},
   "outputs": [
    {
     "name": "stdout",
     "output_type": "stream",
     "text": [
      "['c23704ea54', 'other'] <class 'list'>\n"
     ]
    }
   ],
   "source": [
    "with open('/Users/mac/Desktop/2see:learn/Netology/Netology_python/Downloads (1)/visit_log.csv', 'r', encoding = 'utf-8') as s:\n",
    "    with open('/Users/mac/Desktop/2see:learn/Netology/Netology_python/Downloads (1)/funnel.csv', 'w', encoding = 'utf-8') as w_s:\n",
    "        for row in s:\n",
    "            list_ = row.strip().split(',')\n",
    "            if (list_[0] in dict_.keys()):\n",
    "                b = ','.join(list_)\n",
    "                w_s.write(b+'\\n')\n",
    "print(list_)"
   ]
  },
  {
   "cell_type": "code",
   "execution_count": null,
   "metadata": {},
   "outputs": [],
   "source": []
  },
  {
   "cell_type": "code",
   "execution_count": null,
   "metadata": {},
   "outputs": [],
   "source": []
  }
 ],
 "metadata": {
  "kernelspec": {
   "display_name": "Python 3",
   "language": "python",
   "name": "python3"
  },
  "language_info": {
   "codemirror_mode": {
    "name": "ipython",
    "version": 3
   },
   "file_extension": ".py",
   "mimetype": "text/x-python",
   "name": "python",
   "nbconvert_exporter": "python",
   "pygments_lexer": "ipython3",
   "version": "3.8.5"
  }
 },
 "nbformat": 4,
 "nbformat_minor": 4
}
