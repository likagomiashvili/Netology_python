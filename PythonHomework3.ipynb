{
 "cells": [
  {
   "cell_type": "markdown",
   "metadata": {},
   "source": [
    "# Задание 1\n",
    "\n",
    "Дана переменная, в которой хранится словарь, содержащий гео-метки для каждого пользователя (пример структуры данных приведен ниже). Вам необходимо написать программу, которая выведет на экран множество уникальных гео-меток всех пользователей.\n",
    "\n",
    "Пример работы программы:\n",
    "\n",
    "ids = {'user1': [213, 213, 213, 15, 213], \n",
    "       'user2': [54, 54, 119, 119, 119], \n",
    "       'user3': [213, 98, 98, 35]}\n",
    "Результат: {98, 35, 15, 213, 54, 119}"
   ]
  },
  {
   "cell_type": "code",
   "execution_count": 60,
   "metadata": {},
   "outputs": [
    {
     "data": {
      "text/plain": [
       "{15, 35, 54, 98, 119, 213}"
      ]
     },
     "execution_count": 60,
     "metadata": {},
     "output_type": "execute_result"
    }
   ],
   "source": [
    "ids = {'user1': [213, 213, 213, 15, 213], \n",
    "       'user2': [54, 54, 119, 119, 119], \n",
    "       'user3': [213, 98, 98, 35]}\n",
    "\n",
    "set (sum (ids.values(),[]))"
   ]
  },
  {
   "cell_type": "markdown",
   "metadata": {},
   "source": [
    "# Задание 2 \n",
    "\n",
    "Дана переменная, в которой хранится список поисковых запросов пользователя (пример структуры данных приведен ниже). Вам необходимо написать программу, которая выведет на экран распределение количества слов в запросах в требуемом виде.\n",
    "\n",
    "Пример работы программы:\n",
    "\n",
    "queries = [\n",
    "    'смотреть сериалы онлайн',\n",
    "    'новости спорта',\n",
    "    'афиша кино',\n",
    "    'курс доллара',\n",
    "    'сериалы этим летом',\n",
    "    'курс по питону',\n",
    "    'сериалы про спорт',\n",
    "]\n",
    "Результат:\n",
    "\n",
    "Поисковых запросов, содержащих 2 слов(а): 42.86%\n",
    "Поисковых запросов, содержащих 3 слов(а): 57.14%\n"
   ]
  },
  {
   "cell_type": "code",
   "execution_count": 62,
   "metadata": {
    "scrolled": true
   },
   "outputs": [
    {
     "name": "stdout",
     "output_type": "stream",
     "text": [
      "Поисковых запросов, содержащих 2 слов(а): 42.86% Поисковых запросов, содержащих 3 слов(а): 57.14%\n"
     ]
    }
   ],
   "source": [
    "# дан список \n",
    "queries = [\n",
    "    'смотреть сериалы онлайн',\n",
    "    'новости спорта',\n",
    "    'афиша кино',\n",
    "    'курс доллара',\n",
    "    'сериалы этим летом',\n",
    "    'курс по питону',\n",
    "    'сериалы про спорт',\n",
    "] \n",
    "# счетчик количества строк в списке\n",
    "n = 0\n",
    "# создать пустой список для колчества слов в строке\n",
    "elem_q = []\n",
    "for elem in queries: \n",
    "    elem_n = len(queries[n].split(' '))\n",
    "    n = n + 1\n",
    "    elem_q.append(elem_n)\n",
    "#print (elem_q)\n",
    "\n",
    "print ('Поисковых запросов, содержащих 2 слов(а):', \"{0:.2f}%\".format(elem_q.count(2)/len(queries)*100),\n",
    "       'Поисковых запросов, содержащих 3 слов(а):', \"{0:.2f}%\".format(elem_q.count(3)/len(queries)*100) )\n"
   ]
  },
  {
   "cell_type": "markdown",
   "metadata": {},
   "source": [
    "# Задание 3"
   ]
  },
  {
   "cell_type": "raw",
   "metadata": {},
   "source": [
    "Дана переменная, в которой хранится информация о затратах и доходе рекламных кампаний по различным источникам. Необходимо дополнить исходную структуру показателем ROI, который рассчитаем по формуле: (revenue / cost - 1) * 100\n",
    "\n",
    "Пример работы программы:\n",
    "\n",
    "results = {\n",
    "    'vk': {'revenue': 103, 'cost': 98},\n",
    "    'yandex': {'revenue': 179, 'cost': 153},\n",
    "    'facebook': {'revenue': 103, 'cost': 110},\n",
    "    'adwords': {'revenue': 35, 'cost': 34},\n",
    "    'twitter': {'revenue': 11, 'cost': 24},\n",
    "}\n",
    "Результат:\n",
    "\n",
    "{'adwords': {'revenue': 35, 'cost': 34, 'ROI': 2.94},\n",
    " 'facebook': {'revenue': 103, 'cost': 110, 'ROI': -6.36},\n",
    " 'twitter': {'revenue': 11, 'cost': 24, 'ROI': -54.17},\n",
    " 'vk': {'revenue': 103, 'cost': 98, 'ROI': 5.1},\n",
    " 'yandex': {'revenue': 179, 'cost': 153, 'ROI': 16.99}}\n"
   ]
  },
  {
   "cell_type": "code",
   "execution_count": 55,
   "metadata": {
    "scrolled": true
   },
   "outputs": [
    {
     "data": {
      "text/plain": [
       "{'vk': {'revenue': 103, 'cost': 98, 'ROI': 5.1},\n",
       " 'yandex': {'revenue': 179, 'cost': 153, 'ROI': 16.99},\n",
       " 'facebook': {'revenue': 103, 'cost': 110, 'ROI': -6.36},\n",
       " 'adwords': {'revenue': 35, 'cost': 34, 'ROI': 2.94},\n",
       " 'twitter': {'revenue': 11, 'cost': 24, 'ROI': -54.17}}"
      ]
     },
     "execution_count": 55,
     "metadata": {},
     "output_type": "execute_result"
    }
   ],
   "source": [
    "results = {\n",
    "    'vk': {'revenue': 103, 'cost': 98},\n",
    "    'yandex': {'revenue': 179, 'cost': 153},\n",
    "    'facebook': {'revenue': 103, 'cost': 110},\n",
    "    'adwords': {'revenue': 35, 'cost': 34},\n",
    "    'twitter': {'revenue': 11, 'cost': 24},\n",
    "}\n",
    "\n",
    "roi_n = []\n",
    "for key, value in results.items():\n",
    "    roi = round(((value['revenue'] / value ['cost']) - 1)*100,2)\n",
    "    roi_n.append(roi)\n",
    "    value ['ROI'] = roi\n",
    "   # print (key, value['revenue'], value ['cost'],value ['ROI'])\n",
    "    \n",
    "results   "
   ]
  },
  {
   "cell_type": "markdown",
   "metadata": {},
   "source": [
    "# Задание 4"
   ]
  },
  {
   "cell_type": "raw",
   "metadata": {},
   "source": [
    "Дана переменная, в которой хранится статистика рекламных каналов по объемам продаж (пример структуры данных приведен ниже). Напишите программу, которая возвращает название канала с максимальным объемом продаж.\n",
    "\n",
    "Пример работы программы:\n",
    "\n",
    "stats = {'facebook': 55, 'yandex': 115, 'vk': 120, 'google': 99, 'email': 42, 'ok': 98}\n",
    "\n",
    "Результат: Максимальный объем продаж на рекламном канале: vk\n",
    "\n"
   ]
  },
  {
   "cell_type": "code",
   "execution_count": 82,
   "metadata": {},
   "outputs": [
    {
     "name": "stdout",
     "output_type": "stream",
     "text": [
      "Максимальный объем продаж на рекламном канале: vk\n"
     ]
    }
   ],
   "source": [
    "stats = {'facebook': 55, 'yandex': 115, 'vk': 120, 'google': 99, 'email': 42, 'ok': 98}\n",
    "\n",
    "inverse = [(value, key) for key, value in stats.items()]\n",
    "print ('Максимальный объем продаж на рекламном канале:', max(inverse)[1])"
   ]
  }
 ],
 "metadata": {
  "kernelspec": {
   "display_name": "Python 3",
   "language": "python",
   "name": "python3"
  },
  "language_info": {
   "codemirror_mode": {
    "name": "ipython",
    "version": 3
   },
   "file_extension": ".py",
   "mimetype": "text/x-python",
   "name": "python",
   "nbconvert_exporter": "python",
   "pygments_lexer": "ipython3",
   "version": "3.8.5"
  }
 },
 "nbformat": 4,
 "nbformat_minor": 4
}
