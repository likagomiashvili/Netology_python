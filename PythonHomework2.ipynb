{
 "cells": [
  {
   "cell_type": "markdown",
   "metadata": {},
   "source": [
    "# Задание 1"
   ]
  },
  {
   "cell_type": "code",
   "execution_count": 54,
   "metadata": {},
   "outputs": [
    {
     "name": "stdout",
     "output_type": "stream",
     "text": [
      "testo\n",
      "s\n"
     ]
    }
   ],
   "source": [
    "word = input (str())\n",
    "x = len(word)//2\n",
    "if len(word)%2==0:\n",
    "    print (word[(int(x)-1):int(x)]) \n",
    "elif len(word)%2!=0:\n",
    "    print (word[int(x)])"
   ]
  },
  {
   "cell_type": "markdown",
   "metadata": {},
   "source": [
    "# Задание 2"
   ]
  },
  {
   "cell_type": "code",
   "execution_count": 73,
   "metadata": {},
   "outputs": [
    {
     "name": "stdout",
     "output_type": "stream",
     "text": [
      "2\n",
      "-3\n",
      "4\n",
      "0\n",
      "сумма:  3\n"
     ]
    }
   ],
   "source": [
    "n = 0\n",
    "# сумма:\n",
    "sum_n = 0\n",
    "while True:\n",
    "    a = int(input())\n",
    "    \n",
    "    # Если 0:\n",
    "    if a == 0:\n",
    "        break\n",
    "    else:\n",
    "        sum_n += a\n",
    "       \n",
    "print('сумма: ', sum_n)\n"
   ]
  },
  {
   "cell_type": "markdown",
   "metadata": {},
   "source": [
    "# Задание 3"
   ]
  },
  {
   "cell_type": "code",
   "execution_count": 40,
   "metadata": {},
   "outputs": [
    {
     "name": "stdout",
     "output_type": "stream",
     "text": [
      "[('Alex', 'Emma'), ('Arthur', 'Kate'), ('John', 'Kira'), ('Peter', 'Liza'), ('Richard', 'Trisha')]\n"
     ]
    }
   ],
   "source": [
    "boys = ['Peter', 'Alex', 'John', 'Arthur', 'Richard']\n",
    "girls = ['Kate', 'Liza', 'Kira', 'Emma', 'Trisha']\n",
    "\n",
    "boys.sort(), girls.sort()\n",
    "\n",
    "couples = zip(boys, girls)\n",
    "couples_list = list (couples)\n",
    "print (couples_list)"
   ]
  },
  {
   "cell_type": "code",
   "execution_count": 43,
   "metadata": {},
   "outputs": [
    {
     "name": "stdout",
     "output_type": "stream",
     "text": [
      "Идеальные пары:\n",
      "Alex и Emma\n",
      "Arthur и Kate\n",
      "John и Kira\n",
      "Peter и Liza\n",
      "Richard и Trisha\n"
     ]
    }
   ],
   "source": [
    "print ('Идеальные пары:')\n",
    "for duo in couples_list:\n",
    "    print (duo[0], 'и', duo[1])"
   ]
  },
  {
   "cell_type": "code",
   "execution_count": 42,
   "metadata": {},
   "outputs": [
    {
     "name": "stdout",
     "output_type": "stream",
     "text": [
      "Внимание, кто-то может остаться без пары!\n"
     ]
    }
   ],
   "source": [
    "boys = ['Peter', 'Alex', 'John', 'Arthur', 'Richard', 'Michael']\n",
    "girls = ['Kate', 'Liza', 'Kira', 'Emma', 'Trisha']\n",
    "\n",
    "number_of_boys = len(boys)\n",
    "number_of_girls = len(girls)\n",
    "\n",
    "if number_of_boys!=number_of_girls:\n",
    "    print ('Внимание, кто-то может остаться без пары!')"
   ]
  },
  {
   "cell_type": "markdown",
   "metadata": {},
   "source": [
    "# Задание 4"
   ]
  },
  {
   "cell_type": "code",
   "execution_count": 45,
   "metadata": {},
   "outputs": [
    {
     "name": "stdout",
     "output_type": "stream",
     "text": [
      "[75.2, 77, 78.8, 73.4, 68, 75.2, 77]\n",
      "[57.2, 55.4, 59, 59, 53.6]\n",
      "[35.6, 37.4, 39.2, 41, 42.8, 39.2, 35.6]\n",
      "[50, 50, 53.6, 57.2, 55.4, 55.4]\n"
     ]
    }
   ],
   "source": [
    "countries_temperature = [\n",
    "    ['Thailand', [75.2, 77, 78.8, 73.4, 68, 75.2, 77]],\n",
    "    ['Germany', [57.2, 55.4, 59, 59, 53.6]],\n",
    "    ['Russia', [35.6, 37.4, 39.2, 41, 42.8, 39.2, 35.6]],\n",
    "    ['Poland', [50, 50, 53.6, 57.2, 55.4, 55.4]]\n",
    "]\n",
    "for temp in countries_temperature:\n",
    "    print (temp[1])"
   ]
  },
  {
   "cell_type": "code",
   "execution_count": 74,
   "metadata": {},
   "outputs": [
    {
     "name": "stdout",
     "output_type": "stream",
     "text": [
      "74.94285714285714\n",
      "56.839999999999996\n",
      "38.68571428571429\n",
      "53.599999999999994\n"
     ]
    }
   ],
   "source": [
    "for temp in countries_temperature:\n",
    "    aver_temp = sum(temp[1])/len(temp[1])\n",
    "    print (aver_temp)"
   ]
  },
  {
   "cell_type": "code",
   "execution_count": 110,
   "metadata": {},
   "outputs": [
    {
     "name": "stdout",
     "output_type": "stream",
     "text": [
      "[23.85714285714285, 13.799999999999999, 3.714285714285717, 11.999999999999996]\n"
     ]
    }
   ],
   "source": [
    "    aver_temp = [74.94285714285714,\n",
    "56.839999999999996,\n",
    "38.68571428571429,\n",
    "53.599999999999994]\n",
    "    aver_temp_cel = [(i-32)*5/9 for i in aver_temp]\n",
    "    print (aver_temp_cel)"
   ]
  },
  {
   "cell_type": "code",
   "execution_count": 119,
   "metadata": {},
   "outputs": [
    {
     "name": "stdout",
     "output_type": "stream",
     "text": [
      "Средняя температура в странах:\n",
      "Thailand 23.85714285714285\n",
      "Germany 23.85714285714285\n",
      "Russia 23.85714285714285\n",
      "Poland 23.85714285714285\n"
     ]
    }
   ],
   "source": [
    "print('Средняя температура в странах:')\n",
    "aver_temp_cel = list (aver_temp_cel)\n",
    "for item in countries_temperature:\n",
    "        print (item[0], aver_temp_cel[0])"
   ]
  }
 ],
 "metadata": {
  "kernelspec": {
   "display_name": "Python 3",
   "language": "python",
   "name": "python3"
  },
  "language_info": {
   "codemirror_mode": {
    "name": "ipython",
    "version": 3
   },
   "file_extension": ".py",
   "mimetype": "text/x-python",
   "name": "python",
   "nbconvert_exporter": "python",
   "pygments_lexer": "ipython3",
   "version": "3.8.5"
  }
 },
 "nbformat": 4,
 "nbformat_minor": 4
}
