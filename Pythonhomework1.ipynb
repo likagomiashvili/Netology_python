{
 "cells": [
  {
   "cell_type": "code",
   "execution_count": 1,
   "metadata": {
    "scrolled": false
   },
   "outputs": [
    {
     "name": "stdout",
     "output_type": "stream",
     "text": [
      "Результат\n",
      "Фраза 1 длиннее фразы 2\n"
     ]
    }
   ],
   "source": [
    "phrase_1 = len('Насколько проще было бы писать программы, если бы не заказчики')\n",
    "phrase_2 = len('640Кб должно хватить для любых задач. Билл Гейтс (по легенде)')\n",
    "if phrase_1 > phrase_2:\n",
    "    print ('Результат')\n",
    "    print ('Фраза 1 длиннее фразы 2')"
   ]
  },
  {
   "cell_type": "code",
   "execution_count": 2,
   "metadata": {},
   "outputs": [
    {
     "name": "stdout",
     "output_type": "stream",
     "text": [
      "Високосный\n"
     ]
    }
   ],
   "source": [
    "year = 2020\n",
    "if year % 4 != 0:\n",
    "    print(\"Обычный\")\n",
    "elif year % 100 == 0:\n",
    "    if year % 400 == 0:\n",
    "        print(\"Високосный\")\n",
    "    else:\n",
    "        print(\"Обычный\")\n",
    "else:\n",
    "    print(\"Високосный\")"
   ]
  },
  {
   "cell_type": "code",
   "execution_count": 3,
   "metadata": {},
   "outputs": [
    {
     "name": "stdout",
     "output_type": "stream",
     "text": [
      "Високосный\n"
     ]
    }
   ],
   "source": [
    "year = 2020\n",
    "if (year % 4 == 0) and (year % 100 != 0) or (year % 400 == 0):\n",
    "    print('Високосный')\n",
    "else:\n",
    "    print('Обычный')\n"
   ]
  },
  {
   "cell_type": "code",
   "execution_count": 4,
   "metadata": {},
   "outputs": [
    {
     "name": "stdout",
     "output_type": "stream",
     "text": [
      "Введите месяц рождения в формате 1, 2, 3...: 23\n",
      "Введите день рождения: 2\n"
     ]
    }
   ],
   "source": [
    "### Знаки Зодиака согасно астрономическим данным\n",
    "month = int(input(\"Введите месяц рождения в формате 1, 2, 3...: \"))\n",
    "day = int(input(\"Введите день рождения: \"))\n",
    "if (month == 1) and (day <= 18):\n",
    "    print ('Ваш знак зодиака: стрелец')\n",
    "elif (month == 1) and (day > 18):\n",
    "    print ('Ваш знак зодиака: козерог')\n",
    "elif (month == 2) and (day <= 15):\n",
    "    print ('Ваш знак зодиака: козерог')\n",
    "elif (month == 2) and (day > 15):\n",
    "    print ('Ваш знак зодиака: водолей')\n",
    "elif (month == 3) and (day <= 11):\n",
    "    print ('Ваш знак зодиака: водолей')\n",
    "elif (month == 3) and (day > 11):\n",
    "    print ('Ваш знак зодиака: рыбы')\n",
    "elif (month == 4) and (day <=18):\n",
    "    print ('Ваш знак зодиака: рыбы')\n",
    "elif (month == 4) and (day > 18):\n",
    "    print ('Ваш знак зодиака: овен')\n",
    "elif (month == 5) and (day <= 13):\n",
    "    print ('Ваш знак зодиака: овен')\n",
    "elif (month == 5) and (day > 13):\n",
    "    print ('Ваш знак зодиака: телец')\n",
    "elif (month == 6) and (day <= 19):\n",
    "    print ('Ваш знак зодиака: телец')\n",
    "elif (month == 6) and (day > 19):\n",
    "    print ('Ваш знак зодиака: близнецы')\n",
    "elif (month == 7) and (day <= 20):\n",
    "    print ('Ваш знак зодиака: близнецы')\n",
    "elif (month == 7) and (day > 20):\n",
    "    print ('Ваш знак зодиака: рак')\n",
    "elif (month == 8) and (day <= 9):\n",
    "    print ('Ваш знак зодиака: рак')\n",
    "elif (month == 8) and (day > 9):\n",
    "    print ('Ваш знак зодиака: лев')\n",
    "elif (month == 9) and (day <= 15):\n",
    "    print ('Ваш знак зодиака: лев')\n",
    "elif (month == 9) and (day > 15):\n",
    "    print ('Ваш знак зодиака: дева')\n",
    "elif (month == 10) and (day <= 30):\n",
    "    print ('Ваш знак зодиака: дева')\n",
    "elif (month == 10) and (day > 30):\n",
    "    print ('Ваш знак зодиака: весы')\n",
    "elif (month == 11) and (day <= 22):\n",
    "    print ('Ваш знак зодиака: весы')\n",
    "elif (month == 11) and (day > 22):\n",
    "    print ('Ваш знак зодиака: скорпион')\n",
    "elif (month == 11) and (day <= 29):\n",
    "    print ('Ваш знак зодиака: скорпион')\n",
    "elif (month == 11) and (day > 30):\n",
    "    print ('Ваш знак зодиака: змееносец')\n",
    "elif (month == 12) and (day <=17):\n",
    "    print ('Ваш знак зодиака: змееносец')"
   ]
  },
  {
   "cell_type": "code",
   "execution_count": null,
   "metadata": {},
   "outputs": [],
   "source": [
    "width = int(input(\"Ширина: \"))\n",
    "length = int(input(\"Длина: \"))\n",
    "height = int(input(\"Высота: \"))\n",
    "if (width <=15) and (length<=15) and (height<=15):\n",
    "    print ('Коробка №1')\n",
    "elif (15< width <50 and 15<length <50 and 15< height <50):\n",
    "    print ('Коробка №2')\n",
    "elif (length>200):\n",
    "    print ('Упаковка для лыж')\n",
    "else:\n",
    "    print ('стандартная коробка №3')"
   ]
  },
  {
   "cell_type": "code",
   "execution_count": null,
   "metadata": {},
   "outputs": [],
   "source": []
  }
 ],
 "metadata": {
  "kernelspec": {
   "display_name": "Python 3",
   "language": "python",
   "name": "python3"
  },
  "language_info": {
   "codemirror_mode": {
    "name": "ipython",
    "version": 3
   },
   "file_extension": ".py",
   "mimetype": "text/x-python",
   "name": "python",
   "nbconvert_exporter": "python",
   "pygments_lexer": "ipython3",
   "version": "3.8.5"
  }
 },
 "nbformat": 4,
 "nbformat_minor": 4
}
